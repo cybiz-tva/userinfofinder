{
  "nbformat": 4,
  "nbformat_minor": 0,
  "metadata": {
    "colab": {
      "provenance": []
    },
    "kernelspec": {
      "name": "python3",
      "display_name": "Python 3"
    },
    "language_info": {
      "name": "python"
    }
  },
  "cells": [
    {
      "cell_type": "code",
      "source": [
        "!pip install whois"
      ],
      "metadata": {
        "colab": {
          "base_uri": "https://localhost:8080/"
        },
        "id": "FPBSnqcqWujN",
        "outputId": "2db0747f-3d1e-4585-d281-477dcc5abb35"
      },
      "execution_count": 2,
      "outputs": [
        {
          "output_type": "stream",
          "name": "stdout",
          "text": [
            "Collecting whois\n",
            "  Downloading whois-0.99.3-py3-none-any.whl (61 kB)\n",
            "\u001b[2K     \u001b[90m━━━━━━━━━━━━━━━━━━━━━━━━━━━━━━━━━━━━━━━━\u001b[0m \u001b[32m61.6/61.6 kB\u001b[0m \u001b[31m1.0 MB/s\u001b[0m eta \u001b[36m0:00:00\u001b[0m\n",
            "\u001b[?25hInstalling collected packages: whois\n",
            "Successfully installed whois-0.99.3\n"
          ]
        }
      ]
    },
    {
      "cell_type": "code",
      "execution_count": 3,
      "metadata": {
        "colab": {
          "base_uri": "https://localhost:8080/"
        },
        "id": "WiOnjXq_Wl70",
        "outputId": "3e46a9d8-1d47-4e57-e27b-becc814c580a"
      },
      "outputs": [
        {
          "output_type": "stream",
          "name": "stdout",
          "text": [
            "Enter your name: ishwar\n",
            "Enter your phone number: 7296838846\n",
            "Enter your email address: ishwarsinghpanwar1122@gmail.com\n",
            "Enter keywords related to you (comma-separated): ishwar singh panwar, trading\n",
            "\n",
            "Results:\n",
            "\n",
            "Data Breaches:\n",
            "The email 'ishwarsinghpanwar1122@gmail.com' has not been found in any known data breaches.\n",
            "\n",
            "Name:\n",
            "https://www.babycenter.com/baby-names/details/ishwar-867715\n",
            "https://en.wikipedia.org/wiki/Ishwar_(name)\n",
            "https://www.prokerala.com/kids/baby-names/ishwar-2555.html\n",
            "https://www.onlymyhealth.com/baby-names/meaning-of-name-ishwar-1427779498\n",
            "https://www.babycentre.co.uk/babyname/1051759/ishwar\n",
            "\n",
            "Phone:\n",
            "https://t.me/s/wetradedaily?before=527\n",
            "\n",
            "Email:\n",
            "\n",
            "Keywords:\n",
            "https://in.linkedin.com/in/ishwarsinghpanwar\n",
            "https://www.linkedin.com/pub/dir/Ishwar/Singh+Panwar\n",
            "https://contactout.com/Ishwar-Singh-Panwar-24651247\n",
            "https://isacfoundation.org/ishwar-singh-panwar/\n",
            "https://www.instagram.com/cyb1z/?hl=en\n",
            "\n",
            "Business Listings:\n"
          ]
        }
      ],
      "source": [
        "import hashlib\n",
        "from googlesearch import search\n",
        "from bs4 import BeautifulSoup\n",
        "import whois\n",
        "import requests\n",
        "\n",
        "def check_email_pwned(email):\n",
        "    hashed_email = hashlib.sha1(email.encode()).hexdigest().upper()\n",
        "    prefix = hashed_email[:5]\n",
        "    url = f\"https://api.pwnedpasswords.com/range/{prefix}\"\n",
        "    response = requests.get(url)\n",
        "\n",
        "    suffixes = [line.split(\":\") for line in response.text.splitlines()]\n",
        "    for suffix, count in suffixes:\n",
        "        if hashed_email.endswith(suffix):\n",
        "            return f\"The email '{email}' has been pwned {count} times.\"\n",
        "\n",
        "    return f\"The email '{email}' has not been found in any known data breaches.\"\n",
        "\n",
        "def google_search(query):\n",
        "    search_results = []\n",
        "    for j in search(query, num=5, stop=5, pause=2):\n",
        "        search_results.append(j)\n",
        "    return search_results\n",
        "\n",
        "def whois_lookup(domain):\n",
        "    try:\n",
        "        whois_info = whois.whois(domain)\n",
        "        return whois_info\n",
        "    except whois.parser.PywhoisError:\n",
        "        return None\n",
        "\n",
        "def scrape_zaubacorp(name):\n",
        "    search_url = f\"https://www.zaubacorp.com/companysearchresults/{name}.html\"\n",
        "    headers = {\"User-Agent\": \"Mozilla/5.0 (Windows NT 10.0; Win64; x64) AppleWebKit/537.36 (KHTML, like Gecko) Chrome/91.0.4472.124 Safari/537.36\"}\n",
        "\n",
        "    response = requests.get(search_url, headers=headers)\n",
        "    soup = BeautifulSoup(response.text, 'html.parser')\n",
        "\n",
        "    company_results = []\n",
        "\n",
        "    for result in soup.find_all('div', class_='content_box'):\n",
        "        company_name = result.find('a', class_='corporation-name').text.strip()\n",
        "        company_results.append(company_name)\n",
        "\n",
        "    return company_results\n",
        "\n",
        "def search_user_info(name, phone, email, keywords):\n",
        "    user_info = {\n",
        "        \"Name\": name,\n",
        "        \"Phone\": phone,\n",
        "        \"Email\": email,\n",
        "        \"Keywords\": keywords\n",
        "    }\n",
        "\n",
        "    results = {}\n",
        "\n",
        "    # Check for data breaches using Have I Been Pwned\n",
        "    email_result = check_email_pwned(email)\n",
        "    results[\"Data Breaches\"] = [email_result]\n",
        "\n",
        "    # Perform a web search for user information\n",
        "    for info_type, value in user_info.items():\n",
        "        search_query = f\"{info_type}: {value}\"\n",
        "        search_results = google_search(search_query)\n",
        "        results[info_type] = search_results\n",
        "\n",
        "    # Search for potential business or organization listings associated with the user's information\n",
        "    business_results = scrape_zaubacorp(name)\n",
        "    results[\"Business Listings\"] = business_results\n",
        "\n",
        "    # Perform WHOIS lookup for domains associated with the user's information\n",
        "    for result in results.get(\"Email\", []):\n",
        "        if result.startswith(\"http\"):\n",
        "            domain = result.split(\"/\")[2]\n",
        "            whois_result = whois_lookup(domain)\n",
        "            if whois_result:\n",
        "                results.setdefault(\"Domains\", []).append({domain: whois_result})\n",
        "\n",
        "    return results\n",
        "\n",
        "if __name__ == \"__main__\":\n",
        "    name = input(\"Enter your name: \")\n",
        "    phone = input(\"Enter your phone number: \")\n",
        "    email = input(\"Enter your email address: \")\n",
        "    keywords = input(\"Enter keywords related to you (comma-separated): \").split(',')\n",
        "\n",
        "    results = search_user_info(name, phone, email, keywords)\n",
        "\n",
        "    print(\"\\nResults:\")\n",
        "    for info_type, info_results in results.items():\n",
        "        print(f\"\\n{info_type}:\")\n",
        "        for result in info_results:\n",
        "            if isinstance(result, dict):\n",
        "                print(\"\\nDomains:\")\n",
        "                for domain, whois_info in result.items():\n",
        "                    print(f\"Domain: {domain}\")\n",
        "                    print(f\"WHOIS Information: {whois_info}\")\n",
        "            else:\n",
        "                print(result)\n"
      ]
    }
  ]
}